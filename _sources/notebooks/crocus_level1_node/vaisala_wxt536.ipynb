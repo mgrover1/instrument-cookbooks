{
 "cells": [
  {
   "cell_type": "markdown",
   "id": "6265c1a9-27d9-4b65-8f19-722ed1337cd5",
   "metadata": {},
   "source": [
    "# Read Data from a Vaisala WXT536"
   ]
  },
  {
   "cell_type": "code",
   "execution_count": 1,
   "id": "d601e324-6de9-42c3-b8df-5f93ee771e6d",
   "metadata": {
    "tags": []
   },
   "outputs": [],
   "source": [
    "import sage_data_client\n",
    "import matplotlib.pyplot as plt\n",
    "import pandas as pd\n",
    "\n",
    "from matplotlib.dates import DateFormatter"
   ]
  },
  {
   "cell_type": "markdown",
   "id": "76fddb10-e16a-4358-90b6-78f7d6580c32",
   "metadata": {},
   "source": [
    "----"
   ]
  },
  {
   "cell_type": "markdown",
   "id": "1d11820f-0284-4162-b658-9a2c0ddc1d20",
   "metadata": {
    "tags": []
   },
   "source": [
    "<img src=\"../images/Vaisala_WXT536.jpeg\" width=250 alt=\"Vaisala_WXT536\"></img>"
   ]
  },
  {
   "cell_type": "markdown",
   "id": "791a91a1-ab29-4304-9ff3-cf68ab33baae",
   "metadata": {},
   "source": [
    "## Overview\n",
    "\n",
    "\n",
    "The Vaisala WXT536 is an multi-parameter weather sensor that measures atmospheric temperatures, pressure, humdity, wind speed and direction, and precipitation. \n",
    "\n",
    "High quality atmospheric observations allow for understanding of the environmental conditions at the location of the instrument, and allow us to estimate transport of gas and particles through the atmosphere. \n",
    "\n",
    "In combination with additional sensors attached to a CROCUS Level 1 Node, we are then able to evaluate the concentration of pollutants at the node, the transport of these pollutants into and out of the area of the node, and estimate removal of these pollutants from the atmosphere from preciptiation. \n"
   ]
  },
  {
   "cell_type": "markdown",
   "id": "108a4e09-6949-405c-a366-219b2a5c8be2",
   "metadata": {},
   "source": [
    "## Prerequisites\n",
    "\n",
    "All WXT-536s are installed into a Waggle Edge Computing server as apart of CROCUS's Level 1 Nodes. \n",
    "\n",
    "The Waggle Edge Computing server allows for real-time modification of sensors parameters and dynamical modification of data through edge processing codes.\n",
    "\n",
    "| Concepts | Importance | Notes |\n",
    "| --- | --- | --- |\n",
    "| [Intro to Waggle Sensors](https://github.com/waggle-sensor) | Helpful | Familiarity with Waggle Sensors|\n",
    "| [Waggle/Sage Data Client](https://github.com/sagecontinuum/sage-data-client) | Necessary | Accessing Data |\n",
    "| [Working with Pandas Dataframes](https://foundations.projectpythia.org/core/pandas.html) | Necessary | Understanding Data Object\n",
    "\n",
    "- **Time to Learn**: 60 minutes"
   ]
  },
  {
   "cell_type": "markdown",
   "id": "9e103317-5dce-4d29-b82a-838abbd71577",
   "metadata": {
    "tags": []
   },
   "source": [
    "## Interact with WXT-536 Data\n",
    "\n",
    "We will be accessing data from a CROCUS Level 1 Node (W057), which is located at the Argonne Testbed for Multiscale Observational Science (ATMOS)\n",
    "\n",
    "<img src=\"../images/CROCUS_Level1_Node_WXT.jpeg\" width=250 alt=\"CROCUS Level 1 Node (W057)\"></img>"
   ]
  },
  {
   "cell_type": "markdown",
   "id": "907b5893-29d0-4322-9dd4-b3596109df73",
   "metadata": {
    "tags": []
   },
   "source": [
    "ATMOS serves as a long term observational site and allows for testing equipment before deployment across the CROCUS domain\n",
    "\n",
    "Please check the [Waggle Node 57 User Interface](https://portal.sagecontinuum.org/node/000048B02D3AE336) to determine if the *vaisala-wxt536* plugin is working\n",
    "\n",
    "The [vaisala-wxt536 plugin](https://github.com/jrobrien91/waggle-wxt536) allows for the Waggle Sensor to interpret data sent from the instrument to the Waggle Node and transit this data to cloud storage for investigation.\n",
    "\n",
    "To Query data from a Waggle Sensor, we will need:\n",
    "1. Start of time period we are interested in (YYYY-MM-DDTHH:MM:SSZ format)\n",
    "1. End of time period we are interested in (YYYY-MM-DDTHH:MM:SSZ format)\n",
    "1. Plugin Name (e.g. waggle-wxt536)\n",
    "1. Waggle Node Number (e.g. W057)\n",
    "1. Sensor Name (e.g. 'vaisala-wxt536')"
   ]
  },
  {
   "cell_type": "code",
   "execution_count": 2,
   "id": "8faf0bec-695c-43da-a2e1-364abb574854",
   "metadata": {
    "tags": []
   },
   "outputs": [],
   "source": [
    "# Query the SAGE data client to access the data\n",
    "# Note: We need to know the time period we are interested in\n",
    "df = sage_data_client.query(start=\"2023-04-10T12:00:00Z\",\n",
    "                            end=\"2023-04-10T15:00:00Z\", \n",
    "                            filter={\n",
    "                                \"plugin\": \"10.31.81.1:5000/local/waggle-wxt536\",\n",
    "                                \"vsn\": \"W057\",\n",
    "                                \"sensor\": \"vaisala-wxt536\"\n",
    "                            }\n",
    ")"
   ]
  },
  {
   "cell_type": "code",
   "execution_count": 3,
   "id": "ffda5eb9-dcd0-4933-a5d0-e4d920efd0d2",
   "metadata": {
    "tags": []
   },
   "outputs": [
    {
     "data": {
      "text/html": [
       "<div>\n",
       "<style scoped>\n",
       "    .dataframe tbody tr th:only-of-type {\n",
       "        vertical-align: middle;\n",
       "    }\n",
       "\n",
       "    .dataframe tbody tr th {\n",
       "        vertical-align: top;\n",
       "    }\n",
       "\n",
       "    .dataframe thead th {\n",
       "        text-align: right;\n",
       "    }\n",
       "</style>\n",
       "<table border=\"1\" class=\"dataframe\">\n",
       "  <thead>\n",
       "    <tr style=\"text-align: right;\">\n",
       "      <th></th>\n",
       "      <th>timestamp</th>\n",
       "      <th>name</th>\n",
       "      <th>value</th>\n",
       "      <th>meta.host</th>\n",
       "      <th>meta.job</th>\n",
       "      <th>meta.missing</th>\n",
       "      <th>meta.node</th>\n",
       "      <th>meta.plugin</th>\n",
       "      <th>meta.sensor</th>\n",
       "      <th>meta.task</th>\n",
       "      <th>meta.units</th>\n",
       "      <th>meta.vsn</th>\n",
       "      <th>meta.zone</th>\n",
       "    </tr>\n",
       "  </thead>\n",
       "  <tbody>\n",
       "    <tr>\n",
       "      <th>0</th>\n",
       "      <td>2023-04-10 12:00:00.030623851+00:00</td>\n",
       "      <td>wxt.env.humidity</td>\n",
       "      <td>48.8</td>\n",
       "      <td>000048b02d3ae336.ws-nxcore</td>\n",
       "      <td>Pluginctl</td>\n",
       "      <td>-9999.9</td>\n",
       "      <td>000048b02d3ae336</td>\n",
       "      <td>10.31.81.1:5000/local/waggle-wxt536</td>\n",
       "      <td>vaisala-wxt536</td>\n",
       "      <td>wxt-536</td>\n",
       "      <td>percent</td>\n",
       "      <td>W057</td>\n",
       "      <td>core</td>\n",
       "    </tr>\n",
       "    <tr>\n",
       "      <th>1</th>\n",
       "      <td>2023-04-10 12:00:00.110927910+00:00</td>\n",
       "      <td>wxt.env.humidity</td>\n",
       "      <td>48.8</td>\n",
       "      <td>000048b02d3ae336.ws-nxcore</td>\n",
       "      <td>Pluginctl</td>\n",
       "      <td>-9999.9</td>\n",
       "      <td>000048b02d3ae336</td>\n",
       "      <td>10.31.81.1:5000/local/waggle-wxt536</td>\n",
       "      <td>vaisala-wxt536</td>\n",
       "      <td>wxt-536</td>\n",
       "      <td>percent</td>\n",
       "      <td>W057</td>\n",
       "      <td>core</td>\n",
       "    </tr>\n",
       "    <tr>\n",
       "      <th>2</th>\n",
       "      <td>2023-04-10 12:00:00.185660209+00:00</td>\n",
       "      <td>wxt.env.humidity</td>\n",
       "      <td>48.8</td>\n",
       "      <td>000048b02d3ae336.ws-nxcore</td>\n",
       "      <td>Pluginctl</td>\n",
       "      <td>-9999.9</td>\n",
       "      <td>000048b02d3ae336</td>\n",
       "      <td>10.31.81.1:5000/local/waggle-wxt536</td>\n",
       "      <td>vaisala-wxt536</td>\n",
       "      <td>wxt-536</td>\n",
       "      <td>percent</td>\n",
       "      <td>W057</td>\n",
       "      <td>core</td>\n",
       "    </tr>\n",
       "    <tr>\n",
       "      <th>3</th>\n",
       "      <td>2023-04-10 12:00:00.259648308+00:00</td>\n",
       "      <td>wxt.env.humidity</td>\n",
       "      <td>48.8</td>\n",
       "      <td>000048b02d3ae336.ws-nxcore</td>\n",
       "      <td>Pluginctl</td>\n",
       "      <td>-9999.9</td>\n",
       "      <td>000048b02d3ae336</td>\n",
       "      <td>10.31.81.1:5000/local/waggle-wxt536</td>\n",
       "      <td>vaisala-wxt536</td>\n",
       "      <td>wxt-536</td>\n",
       "      <td>percent</td>\n",
       "      <td>W057</td>\n",
       "      <td>core</td>\n",
       "    </tr>\n",
       "    <tr>\n",
       "      <th>4</th>\n",
       "      <td>2023-04-10 12:00:00.339504875+00:00</td>\n",
       "      <td>wxt.env.humidity</td>\n",
       "      <td>48.8</td>\n",
       "      <td>000048b02d3ae336.ws-nxcore</td>\n",
       "      <td>Pluginctl</td>\n",
       "      <td>-9999.9</td>\n",
       "      <td>000048b02d3ae336</td>\n",
       "      <td>10.31.81.1:5000/local/waggle-wxt536</td>\n",
       "      <td>vaisala-wxt536</td>\n",
       "      <td>wxt-536</td>\n",
       "      <td>percent</td>\n",
       "      <td>W057</td>\n",
       "      <td>core</td>\n",
       "    </tr>\n",
       "    <tr>\n",
       "      <th>...</th>\n",
       "      <td>...</td>\n",
       "      <td>...</td>\n",
       "      <td>...</td>\n",
       "      <td>...</td>\n",
       "      <td>...</td>\n",
       "      <td>...</td>\n",
       "      <td>...</td>\n",
       "      <td>...</td>\n",
       "      <td>...</td>\n",
       "      <td>...</td>\n",
       "      <td>...</td>\n",
       "      <td>...</td>\n",
       "      <td>...</td>\n",
       "    </tr>\n",
       "    <tr>\n",
       "      <th>1137835</th>\n",
       "      <td>2023-04-10 14:59:59.686477504+00:00</td>\n",
       "      <td>wxt.wind.speed</td>\n",
       "      <td>3.2</td>\n",
       "      <td>000048b02d3ae336.ws-nxcore</td>\n",
       "      <td>Pluginctl</td>\n",
       "      <td>-9999.9</td>\n",
       "      <td>000048b02d3ae336</td>\n",
       "      <td>10.31.81.1:5000/local/waggle-wxt536</td>\n",
       "      <td>vaisala-wxt536</td>\n",
       "      <td>wxt-536</td>\n",
       "      <td>meters per second</td>\n",
       "      <td>W057</td>\n",
       "      <td>core</td>\n",
       "    </tr>\n",
       "    <tr>\n",
       "      <th>1137836</th>\n",
       "      <td>2023-04-10 14:59:59.768390286+00:00</td>\n",
       "      <td>wxt.wind.speed</td>\n",
       "      <td>3.3</td>\n",
       "      <td>000048b02d3ae336.ws-nxcore</td>\n",
       "      <td>Pluginctl</td>\n",
       "      <td>-9999.9</td>\n",
       "      <td>000048b02d3ae336</td>\n",
       "      <td>10.31.81.1:5000/local/waggle-wxt536</td>\n",
       "      <td>vaisala-wxt536</td>\n",
       "      <td>wxt-536</td>\n",
       "      <td>meters per second</td>\n",
       "      <td>W057</td>\n",
       "      <td>core</td>\n",
       "    </tr>\n",
       "    <tr>\n",
       "      <th>1137837</th>\n",
       "      <td>2023-04-10 14:59:59.842427079+00:00</td>\n",
       "      <td>wxt.wind.speed</td>\n",
       "      <td>3.3</td>\n",
       "      <td>000048b02d3ae336.ws-nxcore</td>\n",
       "      <td>Pluginctl</td>\n",
       "      <td>-9999.9</td>\n",
       "      <td>000048b02d3ae336</td>\n",
       "      <td>10.31.81.1:5000/local/waggle-wxt536</td>\n",
       "      <td>vaisala-wxt536</td>\n",
       "      <td>wxt-536</td>\n",
       "      <td>meters per second</td>\n",
       "      <td>W057</td>\n",
       "      <td>core</td>\n",
       "    </tr>\n",
       "    <tr>\n",
       "      <th>1137838</th>\n",
       "      <td>2023-04-10 14:59:59.916735651+00:00</td>\n",
       "      <td>wxt.wind.speed</td>\n",
       "      <td>3.3</td>\n",
       "      <td>000048b02d3ae336.ws-nxcore</td>\n",
       "      <td>Pluginctl</td>\n",
       "      <td>-9999.9</td>\n",
       "      <td>000048b02d3ae336</td>\n",
       "      <td>10.31.81.1:5000/local/waggle-wxt536</td>\n",
       "      <td>vaisala-wxt536</td>\n",
       "      <td>wxt-536</td>\n",
       "      <td>meters per second</td>\n",
       "      <td>W057</td>\n",
       "      <td>core</td>\n",
       "    </tr>\n",
       "    <tr>\n",
       "      <th>1137839</th>\n",
       "      <td>2023-04-10 14:59:59.993573466+00:00</td>\n",
       "      <td>wxt.wind.speed</td>\n",
       "      <td>3.1</td>\n",
       "      <td>000048b02d3ae336.ws-nxcore</td>\n",
       "      <td>Pluginctl</td>\n",
       "      <td>-9999.9</td>\n",
       "      <td>000048b02d3ae336</td>\n",
       "      <td>10.31.81.1:5000/local/waggle-wxt536</td>\n",
       "      <td>vaisala-wxt536</td>\n",
       "      <td>wxt-536</td>\n",
       "      <td>meters per second</td>\n",
       "      <td>W057</td>\n",
       "      <td>core</td>\n",
       "    </tr>\n",
       "  </tbody>\n",
       "</table>\n",
       "<p>1137840 rows × 13 columns</p>\n",
       "</div>"
      ],
      "text/plain": [
       "                                  timestamp              name  value  \\\n",
       "0       2023-04-10 12:00:00.030623851+00:00  wxt.env.humidity   48.8   \n",
       "1       2023-04-10 12:00:00.110927910+00:00  wxt.env.humidity   48.8   \n",
       "2       2023-04-10 12:00:00.185660209+00:00  wxt.env.humidity   48.8   \n",
       "3       2023-04-10 12:00:00.259648308+00:00  wxt.env.humidity   48.8   \n",
       "4       2023-04-10 12:00:00.339504875+00:00  wxt.env.humidity   48.8   \n",
       "...                                     ...               ...    ...   \n",
       "1137835 2023-04-10 14:59:59.686477504+00:00    wxt.wind.speed    3.2   \n",
       "1137836 2023-04-10 14:59:59.768390286+00:00    wxt.wind.speed    3.3   \n",
       "1137837 2023-04-10 14:59:59.842427079+00:00    wxt.wind.speed    3.3   \n",
       "1137838 2023-04-10 14:59:59.916735651+00:00    wxt.wind.speed    3.3   \n",
       "1137839 2023-04-10 14:59:59.993573466+00:00    wxt.wind.speed    3.1   \n",
       "\n",
       "                          meta.host   meta.job meta.missing         meta.node  \\\n",
       "0        000048b02d3ae336.ws-nxcore  Pluginctl      -9999.9  000048b02d3ae336   \n",
       "1        000048b02d3ae336.ws-nxcore  Pluginctl      -9999.9  000048b02d3ae336   \n",
       "2        000048b02d3ae336.ws-nxcore  Pluginctl      -9999.9  000048b02d3ae336   \n",
       "3        000048b02d3ae336.ws-nxcore  Pluginctl      -9999.9  000048b02d3ae336   \n",
       "4        000048b02d3ae336.ws-nxcore  Pluginctl      -9999.9  000048b02d3ae336   \n",
       "...                             ...        ...          ...               ...   \n",
       "1137835  000048b02d3ae336.ws-nxcore  Pluginctl      -9999.9  000048b02d3ae336   \n",
       "1137836  000048b02d3ae336.ws-nxcore  Pluginctl      -9999.9  000048b02d3ae336   \n",
       "1137837  000048b02d3ae336.ws-nxcore  Pluginctl      -9999.9  000048b02d3ae336   \n",
       "1137838  000048b02d3ae336.ws-nxcore  Pluginctl      -9999.9  000048b02d3ae336   \n",
       "1137839  000048b02d3ae336.ws-nxcore  Pluginctl      -9999.9  000048b02d3ae336   \n",
       "\n",
       "                                 meta.plugin     meta.sensor meta.task  \\\n",
       "0        10.31.81.1:5000/local/waggle-wxt536  vaisala-wxt536   wxt-536   \n",
       "1        10.31.81.1:5000/local/waggle-wxt536  vaisala-wxt536   wxt-536   \n",
       "2        10.31.81.1:5000/local/waggle-wxt536  vaisala-wxt536   wxt-536   \n",
       "3        10.31.81.1:5000/local/waggle-wxt536  vaisala-wxt536   wxt-536   \n",
       "4        10.31.81.1:5000/local/waggle-wxt536  vaisala-wxt536   wxt-536   \n",
       "...                                      ...             ...       ...   \n",
       "1137835  10.31.81.1:5000/local/waggle-wxt536  vaisala-wxt536   wxt-536   \n",
       "1137836  10.31.81.1:5000/local/waggle-wxt536  vaisala-wxt536   wxt-536   \n",
       "1137837  10.31.81.1:5000/local/waggle-wxt536  vaisala-wxt536   wxt-536   \n",
       "1137838  10.31.81.1:5000/local/waggle-wxt536  vaisala-wxt536   wxt-536   \n",
       "1137839  10.31.81.1:5000/local/waggle-wxt536  vaisala-wxt536   wxt-536   \n",
       "\n",
       "                meta.units meta.vsn meta.zone  \n",
       "0                  percent     W057      core  \n",
       "1                  percent     W057      core  \n",
       "2                  percent     W057      core  \n",
       "3                  percent     W057      core  \n",
       "4                  percent     W057      core  \n",
       "...                    ...      ...       ...  \n",
       "1137835  meters per second     W057      core  \n",
       "1137836  meters per second     W057      core  \n",
       "1137837  meters per second     W057      core  \n",
       "1137838  meters per second     W057      core  \n",
       "1137839  meters per second     W057      core  \n",
       "\n",
       "[1137840 rows x 13 columns]"
      ]
     },
     "execution_count": 3,
     "metadata": {},
     "output_type": "execute_result"
    }
   ],
   "source": [
    "df"
   ]
  },
  {
   "cell_type": "code",
   "execution_count": 4,
   "id": "97880c24-662d-4903-a6c9-2cf3aa03d637",
   "metadata": {
    "tags": []
   },
   "outputs": [
    {
     "data": {
      "text/plain": [
       "RangeIndex(start=0, stop=1137840, step=1)"
      ]
     },
     "execution_count": 4,
     "metadata": {},
     "output_type": "execute_result"
    }
   ],
   "source": [
    "# Detemine the number of rows within the dataset\n",
    "df.index"
   ]
  },
  {
   "cell_type": "code",
   "execution_count": 5,
   "id": "45f16ffe-6772-46b3-ae4b-08f6422b6a87",
   "metadata": {
    "tags": []
   },
   "outputs": [
    {
     "data": {
      "text/plain": [
       "Index(['timestamp', 'name', 'value', 'meta.host', 'meta.job', 'meta.missing',\n",
       "       'meta.node', 'meta.plugin', 'meta.sensor', 'meta.task', 'meta.units',\n",
       "       'meta.vsn', 'meta.zone'],\n",
       "      dtype='object')"
      ]
     },
     "execution_count": 5,
     "metadata": {},
     "output_type": "execute_result"
    }
   ],
   "source": [
    "# Determine number of columns within dataset\n",
    "df.columns"
   ]
  },
  {
   "cell_type": "code",
   "execution_count": 6,
   "id": "1a161d42-bbfd-4307-8315-11e9a2be5a04",
   "metadata": {
    "tags": []
   },
   "outputs": [
    {
     "name": "stdout",
     "output_type": "stream",
     "text": [
      "{'wxt.env.temp', 'wxt.env.humidity', 'wxt.wind.speed', 'wxt.wind.direction', 'wxt.rain.accumulation', 'wxt.env.pressure', 'wxt.heater.volt', 'wxt.heater.temp'}\n"
     ]
    }
   ],
   "source": [
    "# Determine the number of unique measurements within 'name' column\n",
    "print(set(df['name']))"
   ]
  },
  {
   "cell_type": "markdown",
   "id": "42980e55-0894-40d3-8770-03db5b563ff4",
   "metadata": {},
   "source": [
    "<div class=\"admonition alert alert-danger\">\n",
    "    <p class=\"admonition-title\" style=\"font-weight:bold\">Danger</p>\n",
    "    Data will only be returned for valid dates. Otherwise, dataframe object will contain nothing\n",
    "</div>"
   ]
  },
  {
   "cell_type": "code",
   "execution_count": 7,
   "id": "510eba9b-ebf2-4f8d-aef6-0442d91e0af8",
   "metadata": {
    "tags": []
   },
   "outputs": [],
   "source": [
    "# Query the SAGE data client to access the data\n",
    "# Note: We need to know the time period we are interested in\n",
    "no_data_df = sage_data_client.query(start=\"2099-04-10T12:00:00Z\",\n",
    "                                    end=\"2099-04-10T15:00:00Z\", \n",
    "                                    filter={\n",
    "                                        \"plugin\": \"10.31.81.1:5000/local/waggle-wxt536\",\n",
    "                                        \"vsn\": \"W057\",\n",
    "                                        \"sensor\": \"vaisala-wxt536\"\n",
    "                                    }\n",
    ")"
   ]
  },
  {
   "cell_type": "code",
   "execution_count": 8,
   "id": "d607fe13-e7e1-49ef-9988-bdc398ec1b26",
   "metadata": {
    "tags": []
   },
   "outputs": [
    {
     "data": {
      "text/html": [
       "<div>\n",
       "<style scoped>\n",
       "    .dataframe tbody tr th:only-of-type {\n",
       "        vertical-align: middle;\n",
       "    }\n",
       "\n",
       "    .dataframe tbody tr th {\n",
       "        vertical-align: top;\n",
       "    }\n",
       "\n",
       "    .dataframe thead th {\n",
       "        text-align: right;\n",
       "    }\n",
       "</style>\n",
       "<table border=\"1\" class=\"dataframe\">\n",
       "  <thead>\n",
       "    <tr style=\"text-align: right;\">\n",
       "      <th></th>\n",
       "      <th>timestamp</th>\n",
       "      <th>name</th>\n",
       "      <th>value</th>\n",
       "    </tr>\n",
       "  </thead>\n",
       "  <tbody>\n",
       "  </tbody>\n",
       "</table>\n",
       "</div>"
      ],
      "text/plain": [
       "Empty DataFrame\n",
       "Columns: [timestamp, name, value]\n",
       "Index: []"
      ]
     },
     "execution_count": 8,
     "metadata": {},
     "output_type": "execute_result"
    }
   ],
   "source": [
    "no_data_df"
   ]
  },
  {
   "cell_type": "markdown",
   "id": "1cbe08ce-0140-46a7-ac73-750c27d4fd9b",
   "metadata": {},
   "source": [
    "## Investigate the Dataset\n",
    "\n",
    "To investigate the dataset, it is helpful to know how to access specific rows or columns within the data\n",
    "\n",
    "We will then display the ambient temperature of the dataset, in coordination with wind speed and direction"
   ]
  },
  {
   "cell_type": "code",
   "execution_count": 9,
   "id": "cae059d4-16ee-44e3-9d91-637e7ca1dbee",
   "metadata": {
    "tags": []
   },
   "outputs": [
    {
     "data": {
      "text/html": [
       "<div>\n",
       "<style scoped>\n",
       "    .dataframe tbody tr th:only-of-type {\n",
       "        vertical-align: middle;\n",
       "    }\n",
       "\n",
       "    .dataframe tbody tr th {\n",
       "        vertical-align: top;\n",
       "    }\n",
       "\n",
       "    .dataframe thead th {\n",
       "        text-align: right;\n",
       "    }\n",
       "</style>\n",
       "<table border=\"1\" class=\"dataframe\">\n",
       "  <thead>\n",
       "    <tr style=\"text-align: right;\">\n",
       "      <th></th>\n",
       "      <th>timestamp</th>\n",
       "      <th>name</th>\n",
       "      <th>value</th>\n",
       "      <th>meta.host</th>\n",
       "      <th>meta.job</th>\n",
       "      <th>meta.missing</th>\n",
       "      <th>meta.node</th>\n",
       "      <th>meta.plugin</th>\n",
       "      <th>meta.sensor</th>\n",
       "      <th>meta.task</th>\n",
       "      <th>meta.units</th>\n",
       "      <th>meta.vsn</th>\n",
       "      <th>meta.zone</th>\n",
       "    </tr>\n",
       "  </thead>\n",
       "  <tbody>\n",
       "    <tr>\n",
       "      <th>284460</th>\n",
       "      <td>2023-04-10 12:00:00.030623851+00:00</td>\n",
       "      <td>wxt.env.temp</td>\n",
       "      <td>8.4</td>\n",
       "      <td>000048b02d3ae336.ws-nxcore</td>\n",
       "      <td>Pluginctl</td>\n",
       "      <td>-9999.9</td>\n",
       "      <td>000048b02d3ae336</td>\n",
       "      <td>10.31.81.1:5000/local/waggle-wxt536</td>\n",
       "      <td>vaisala-wxt536</td>\n",
       "      <td>wxt-536</td>\n",
       "      <td>degree Celsius</td>\n",
       "      <td>W057</td>\n",
       "      <td>core</td>\n",
       "    </tr>\n",
       "    <tr>\n",
       "      <th>284461</th>\n",
       "      <td>2023-04-10 12:00:00.110927910+00:00</td>\n",
       "      <td>wxt.env.temp</td>\n",
       "      <td>8.4</td>\n",
       "      <td>000048b02d3ae336.ws-nxcore</td>\n",
       "      <td>Pluginctl</td>\n",
       "      <td>-9999.9</td>\n",
       "      <td>000048b02d3ae336</td>\n",
       "      <td>10.31.81.1:5000/local/waggle-wxt536</td>\n",
       "      <td>vaisala-wxt536</td>\n",
       "      <td>wxt-536</td>\n",
       "      <td>degree Celsius</td>\n",
       "      <td>W057</td>\n",
       "      <td>core</td>\n",
       "    </tr>\n",
       "    <tr>\n",
       "      <th>284462</th>\n",
       "      <td>2023-04-10 12:00:00.185660209+00:00</td>\n",
       "      <td>wxt.env.temp</td>\n",
       "      <td>8.4</td>\n",
       "      <td>000048b02d3ae336.ws-nxcore</td>\n",
       "      <td>Pluginctl</td>\n",
       "      <td>-9999.9</td>\n",
       "      <td>000048b02d3ae336</td>\n",
       "      <td>10.31.81.1:5000/local/waggle-wxt536</td>\n",
       "      <td>vaisala-wxt536</td>\n",
       "      <td>wxt-536</td>\n",
       "      <td>degree Celsius</td>\n",
       "      <td>W057</td>\n",
       "      <td>core</td>\n",
       "    </tr>\n",
       "    <tr>\n",
       "      <th>284463</th>\n",
       "      <td>2023-04-10 12:00:00.259648308+00:00</td>\n",
       "      <td>wxt.env.temp</td>\n",
       "      <td>8.4</td>\n",
       "      <td>000048b02d3ae336.ws-nxcore</td>\n",
       "      <td>Pluginctl</td>\n",
       "      <td>-9999.9</td>\n",
       "      <td>000048b02d3ae336</td>\n",
       "      <td>10.31.81.1:5000/local/waggle-wxt536</td>\n",
       "      <td>vaisala-wxt536</td>\n",
       "      <td>wxt-536</td>\n",
       "      <td>degree Celsius</td>\n",
       "      <td>W057</td>\n",
       "      <td>core</td>\n",
       "    </tr>\n",
       "    <tr>\n",
       "      <th>284464</th>\n",
       "      <td>2023-04-10 12:00:00.339504875+00:00</td>\n",
       "      <td>wxt.env.temp</td>\n",
       "      <td>8.4</td>\n",
       "      <td>000048b02d3ae336.ws-nxcore</td>\n",
       "      <td>Pluginctl</td>\n",
       "      <td>-9999.9</td>\n",
       "      <td>000048b02d3ae336</td>\n",
       "      <td>10.31.81.1:5000/local/waggle-wxt536</td>\n",
       "      <td>vaisala-wxt536</td>\n",
       "      <td>wxt-536</td>\n",
       "      <td>degree Celsius</td>\n",
       "      <td>W057</td>\n",
       "      <td>core</td>\n",
       "    </tr>\n",
       "    <tr>\n",
       "      <th>...</th>\n",
       "      <td>...</td>\n",
       "      <td>...</td>\n",
       "      <td>...</td>\n",
       "      <td>...</td>\n",
       "      <td>...</td>\n",
       "      <td>...</td>\n",
       "      <td>...</td>\n",
       "      <td>...</td>\n",
       "      <td>...</td>\n",
       "      <td>...</td>\n",
       "      <td>...</td>\n",
       "      <td>...</td>\n",
       "      <td>...</td>\n",
       "    </tr>\n",
       "    <tr>\n",
       "      <th>426685</th>\n",
       "      <td>2023-04-10 14:59:59.686477504+00:00</td>\n",
       "      <td>wxt.env.temp</td>\n",
       "      <td>15.5</td>\n",
       "      <td>000048b02d3ae336.ws-nxcore</td>\n",
       "      <td>Pluginctl</td>\n",
       "      <td>-9999.9</td>\n",
       "      <td>000048b02d3ae336</td>\n",
       "      <td>10.31.81.1:5000/local/waggle-wxt536</td>\n",
       "      <td>vaisala-wxt536</td>\n",
       "      <td>wxt-536</td>\n",
       "      <td>degree Celsius</td>\n",
       "      <td>W057</td>\n",
       "      <td>core</td>\n",
       "    </tr>\n",
       "    <tr>\n",
       "      <th>426686</th>\n",
       "      <td>2023-04-10 14:59:59.768390286+00:00</td>\n",
       "      <td>wxt.env.temp</td>\n",
       "      <td>15.5</td>\n",
       "      <td>000048b02d3ae336.ws-nxcore</td>\n",
       "      <td>Pluginctl</td>\n",
       "      <td>-9999.9</td>\n",
       "      <td>000048b02d3ae336</td>\n",
       "      <td>10.31.81.1:5000/local/waggle-wxt536</td>\n",
       "      <td>vaisala-wxt536</td>\n",
       "      <td>wxt-536</td>\n",
       "      <td>degree Celsius</td>\n",
       "      <td>W057</td>\n",
       "      <td>core</td>\n",
       "    </tr>\n",
       "    <tr>\n",
       "      <th>426687</th>\n",
       "      <td>2023-04-10 14:59:59.842427079+00:00</td>\n",
       "      <td>wxt.env.temp</td>\n",
       "      <td>15.5</td>\n",
       "      <td>000048b02d3ae336.ws-nxcore</td>\n",
       "      <td>Pluginctl</td>\n",
       "      <td>-9999.9</td>\n",
       "      <td>000048b02d3ae336</td>\n",
       "      <td>10.31.81.1:5000/local/waggle-wxt536</td>\n",
       "      <td>vaisala-wxt536</td>\n",
       "      <td>wxt-536</td>\n",
       "      <td>degree Celsius</td>\n",
       "      <td>W057</td>\n",
       "      <td>core</td>\n",
       "    </tr>\n",
       "    <tr>\n",
       "      <th>426688</th>\n",
       "      <td>2023-04-10 14:59:59.916735651+00:00</td>\n",
       "      <td>wxt.env.temp</td>\n",
       "      <td>15.5</td>\n",
       "      <td>000048b02d3ae336.ws-nxcore</td>\n",
       "      <td>Pluginctl</td>\n",
       "      <td>-9999.9</td>\n",
       "      <td>000048b02d3ae336</td>\n",
       "      <td>10.31.81.1:5000/local/waggle-wxt536</td>\n",
       "      <td>vaisala-wxt536</td>\n",
       "      <td>wxt-536</td>\n",
       "      <td>degree Celsius</td>\n",
       "      <td>W057</td>\n",
       "      <td>core</td>\n",
       "    </tr>\n",
       "    <tr>\n",
       "      <th>426689</th>\n",
       "      <td>2023-04-10 14:59:59.993573466+00:00</td>\n",
       "      <td>wxt.env.temp</td>\n",
       "      <td>15.5</td>\n",
       "      <td>000048b02d3ae336.ws-nxcore</td>\n",
       "      <td>Pluginctl</td>\n",
       "      <td>-9999.9</td>\n",
       "      <td>000048b02d3ae336</td>\n",
       "      <td>10.31.81.1:5000/local/waggle-wxt536</td>\n",
       "      <td>vaisala-wxt536</td>\n",
       "      <td>wxt-536</td>\n",
       "      <td>degree Celsius</td>\n",
       "      <td>W057</td>\n",
       "      <td>core</td>\n",
       "    </tr>\n",
       "  </tbody>\n",
       "</table>\n",
       "<p>142230 rows × 13 columns</p>\n",
       "</div>"
      ],
      "text/plain": [
       "                                 timestamp          name  value  \\\n",
       "284460 2023-04-10 12:00:00.030623851+00:00  wxt.env.temp    8.4   \n",
       "284461 2023-04-10 12:00:00.110927910+00:00  wxt.env.temp    8.4   \n",
       "284462 2023-04-10 12:00:00.185660209+00:00  wxt.env.temp    8.4   \n",
       "284463 2023-04-10 12:00:00.259648308+00:00  wxt.env.temp    8.4   \n",
       "284464 2023-04-10 12:00:00.339504875+00:00  wxt.env.temp    8.4   \n",
       "...                                    ...           ...    ...   \n",
       "426685 2023-04-10 14:59:59.686477504+00:00  wxt.env.temp   15.5   \n",
       "426686 2023-04-10 14:59:59.768390286+00:00  wxt.env.temp   15.5   \n",
       "426687 2023-04-10 14:59:59.842427079+00:00  wxt.env.temp   15.5   \n",
       "426688 2023-04-10 14:59:59.916735651+00:00  wxt.env.temp   15.5   \n",
       "426689 2023-04-10 14:59:59.993573466+00:00  wxt.env.temp   15.5   \n",
       "\n",
       "                         meta.host   meta.job meta.missing         meta.node  \\\n",
       "284460  000048b02d3ae336.ws-nxcore  Pluginctl      -9999.9  000048b02d3ae336   \n",
       "284461  000048b02d3ae336.ws-nxcore  Pluginctl      -9999.9  000048b02d3ae336   \n",
       "284462  000048b02d3ae336.ws-nxcore  Pluginctl      -9999.9  000048b02d3ae336   \n",
       "284463  000048b02d3ae336.ws-nxcore  Pluginctl      -9999.9  000048b02d3ae336   \n",
       "284464  000048b02d3ae336.ws-nxcore  Pluginctl      -9999.9  000048b02d3ae336   \n",
       "...                            ...        ...          ...               ...   \n",
       "426685  000048b02d3ae336.ws-nxcore  Pluginctl      -9999.9  000048b02d3ae336   \n",
       "426686  000048b02d3ae336.ws-nxcore  Pluginctl      -9999.9  000048b02d3ae336   \n",
       "426687  000048b02d3ae336.ws-nxcore  Pluginctl      -9999.9  000048b02d3ae336   \n",
       "426688  000048b02d3ae336.ws-nxcore  Pluginctl      -9999.9  000048b02d3ae336   \n",
       "426689  000048b02d3ae336.ws-nxcore  Pluginctl      -9999.9  000048b02d3ae336   \n",
       "\n",
       "                                meta.plugin     meta.sensor meta.task  \\\n",
       "284460  10.31.81.1:5000/local/waggle-wxt536  vaisala-wxt536   wxt-536   \n",
       "284461  10.31.81.1:5000/local/waggle-wxt536  vaisala-wxt536   wxt-536   \n",
       "284462  10.31.81.1:5000/local/waggle-wxt536  vaisala-wxt536   wxt-536   \n",
       "284463  10.31.81.1:5000/local/waggle-wxt536  vaisala-wxt536   wxt-536   \n",
       "284464  10.31.81.1:5000/local/waggle-wxt536  vaisala-wxt536   wxt-536   \n",
       "...                                     ...             ...       ...   \n",
       "426685  10.31.81.1:5000/local/waggle-wxt536  vaisala-wxt536   wxt-536   \n",
       "426686  10.31.81.1:5000/local/waggle-wxt536  vaisala-wxt536   wxt-536   \n",
       "426687  10.31.81.1:5000/local/waggle-wxt536  vaisala-wxt536   wxt-536   \n",
       "426688  10.31.81.1:5000/local/waggle-wxt536  vaisala-wxt536   wxt-536   \n",
       "426689  10.31.81.1:5000/local/waggle-wxt536  vaisala-wxt536   wxt-536   \n",
       "\n",
       "            meta.units meta.vsn meta.zone  \n",
       "284460  degree Celsius     W057      core  \n",
       "284461  degree Celsius     W057      core  \n",
       "284462  degree Celsius     W057      core  \n",
       "284463  degree Celsius     W057      core  \n",
       "284464  degree Celsius     W057      core  \n",
       "...                ...      ...       ...  \n",
       "426685  degree Celsius     W057      core  \n",
       "426686  degree Celsius     W057      core  \n",
       "426687  degree Celsius     W057      core  \n",
       "426688  degree Celsius     W057      core  \n",
       "426689  degree Celsius     W057      core  \n",
       "\n",
       "[142230 rows x 13 columns]"
      ]
     },
     "execution_count": 9,
     "metadata": {},
     "output_type": "execute_result"
    }
   ],
   "source": [
    "# isolate the environmental temperature data\n",
    "df.loc[df['name'] == 'wxt.env.temp']"
   ]
  },
  {
   "cell_type": "code",
   "execution_count": 10,
   "id": "4a05fc8f-07c7-44ef-bcd4-7549a148b46a",
   "metadata": {
    "tags": []
   },
   "outputs": [
    {
     "data": {
      "image/png": "[encoded data removed]",
      "text/plain": [
       "<Figure size 1200x400 with 1 Axes>"
      ]
     },
     "metadata": {},
     "output_type": "display_data"
    }
   ],
   "source": [
    "fig, axs = plt.subplots(figsize=(12, 4))\n",
    "\n",
    "# Define Format of how the date is displayed\n",
    "date_form = DateFormatter(\"%Y-%m-%d \\n %H:%M:%S\")\n",
    "\n",
    "# Note: Use the Pandas DataFrame 'loc' functionality to search the object for the ambient temp\n",
    "df.loc[df['name'] == 'wxt.env.temp'].set_index('timestamp').value.plot(\n",
    "                                           xlabel='UTC Time \\n [HH:MM:SS]',\n",
    "                                           ylabel='Ambient Temperature \\n [Degree Celsius]',\n",
    "                                           title='CROCUS Level 1 Node (W057) - Vaisala WXT536',\n",
    "                                           ax=axs\n",
    "                                          )\n",
    "\n",
    "axs.xaxis.set_major_formatter(date_form)\n",
    "axs.grid(True)"
   ]
  },
  {
   "cell_type": "code",
   "execution_count": 11,
   "id": "eba0d3d2-f34a-4952-9dab-bc17cefa4a9f",
   "metadata": {
    "tags": []
   },
   "outputs": [
    {
     "data": {
      "image/png": "[encoded data removed]",
      "text/plain": [
       "<Figure size 1200x400 with 2 Axes>"
      ]
     },
     "metadata": {},
     "output_type": "display_data"
    }
   ],
   "source": [
    "fig, axs = plt.subplots(figsize=(12, 4))\n",
    "\n",
    "# Define Format of how the date is displayed\n",
    "date_form = DateFormatter(\"%Y-%m-%d \\n %H:%M:%S\")\n",
    "\n",
    "# Note: Use the Pandas DataFrame 'loc' functionality to search the object for the ambient temp\n",
    "df.loc[df['name'] == 'wxt.wind.speed'].set_index('timestamp').value.plot(\n",
    "                                           xlabel='UTC Time \\n [HH:MM:SS]',\n",
    "                                           ylabel='Wind Speed \\n [meters per second]',\n",
    "                                           title='CROCUS Level 1 Node (W057) - Vaisala WXT536',\n",
    "                                           ax=axs,\n",
    "                                           color='C0'\n",
    "                                          )\n",
    "# Set the left hand y-axis label and color to match variable displayed\n",
    "axs.set_ylabel('Wind Speed \\n [meters per second]', \n",
    "               color='C0',\n",
    "               )\n",
    "# Change left hand y-axis tick colors to match variable displayed\n",
    "axs.tick_params(axis='y', labelcolor='C0')\n",
    "\n",
    "ax2 = axs.twinx()  # instantiate a second axes that shares the same x-axis\n",
    "\n",
    "# Note: Use the Pandas DataFrame 'loc' functionality to search the object for the ambient temp\n",
    "df.loc[df['name'] == 'wxt.wind.direction'].set_index('timestamp').value.plot(\n",
    "                                                xlabel='UTC Time \\n [HH:MM:SS]',\n",
    "                                                title='CROCUS Level 1 Node (W057) - Vaisala WXT536',\n",
    "                                                ax=ax2,\n",
    "                                                color='C1'\n",
    "                                               )\n",
    "ax2.set_ylabel('Wind Direction \\n [Degrees from North]', \n",
    "               color='C1',\n",
    "               )\n",
    "ax2.tick_params(axis='y', labelcolor='C1')\n",
    "\n",
    "axs.xaxis.set_major_formatter(date_form)\n",
    "axs.grid(True)"
   ]
  },
  {
   "cell_type": "markdown",
   "id": "6b59cc4c-c92f-4d12-8180-5fd62d61a3a4",
   "metadata": {
    "tags": []
   },
   "source": [
    "## Display Diurnal Temperature Cycle \n",
    "\n",
    "Let's Grab all temperature data available to visualize the daily cycle"
   ]
  },
  {
   "cell_type": "markdown",
   "id": "fea7b82c-bb32-45cf-8efe-b9a9f3eef4d0",
   "metadata": {},
   "source": [
    "<div class=\"admonition alert alert-info\">\n",
    "    <p class=\"admonition-title\" style=\"font-weight:bold\">Info</p>\n",
    "    If you are only interested in a specific measurement,\n",
    "    you can also query specific variables using the 'name' filter\n",
    "</div>"
   ]
  },
  {
   "cell_type": "code",
   "execution_count": null,
   "id": "dac26f3b-d627-4aad-8a0f-4129718ee89e",
   "metadata": {
    "tags": []
   },
   "outputs": [],
   "source": [
    "# Query the SAGE data client to access the data; use 'name' filter\n",
    "\n",
    "df_temp = sage_data_client.query(start=\"2023-04-08T00:00:00Z\",\n",
    "                                 end=\"2023-04-10T23:00:00Z\", \n",
    "                                    filter={\n",
    "                                        \"name\" : 'wxt.env.temp',\n",
    "                                        \"plugin\" : \"10.31.81.1:5000/local/waggle-wxt536\",\n",
    "                                        \"vsn\" : \"W057\",\n",
    "                                        \"sensor\" : \"vaisala-wxt536\"\n",
    "                                    }\n",
    ")"
   ]
  },
  {
   "cell_type": "code",
   "execution_count": null,
   "id": "07a85b4c-9fd0-484c-81bd-0eb6a23af48e",
   "metadata": {
    "tags": []
   },
   "outputs": [],
   "source": [
    "df_temp"
   ]
  },
  {
   "cell_type": "code",
   "execution_count": null,
   "id": "0ede8cc9-8ddf-4c97-9760-698b2fa77a90",
   "metadata": {
    "tags": []
   },
   "outputs": [],
   "source": [
    "fig, axs = plt.subplots(figsize=(12, 4))\n",
    "\n",
    "# Define Format of how the date is displayed\n",
    "date_form = DateFormatter(\"%Y-%m-%d \\n %H:%M:%S\")\n",
    "\n",
    "# Note: Use the Pandas DataFrame 'loc' functionality to search the object for the ambient temp\n",
    "df_temp.set_index('timestamp').value.plot(xlabel='UTC Time \\n [HH:MM:SS]',\n",
    "                                          ylabel='Ambient Temperature \\n [Degree Celsius]',\n",
    "                                          title='CROCUS Level 1 Node (W057) - Vaisala WXT536',\n",
    "                                          ax=axs\n",
    "                                          )\n",
    "\n",
    "axs.xaxis.set_major_formatter(date_form)\n",
    "axs.grid(True)"
   ]
  },
  {
   "cell_type": "markdown",
   "id": "c5fd7afd-65a4-41d4-98cb-b5ca0ade3818",
   "metadata": {},
   "source": [
    "## Save Your Selected Dataset"
   ]
  },
  {
   "cell_type": "markdown",
   "id": "befe123a-dfb4-49ee-a0a2-099a76ac06eb",
   "metadata": {
    "tags": []
   },
   "source": [
    "<div class=\"admonition alert alert-warning\">\n",
    "    <p class=\"admonition-title\" style=\"font-weight:bold\">Warning</p>\n",
    "    Be careful! Saving data in a comma separated values (CSV) file format takes up a lot of space!\n",
    "</div>"
   ]
  },
  {
   "cell_type": "code",
   "execution_count": null,
   "id": "de53b85e-5029-48f0-b599-bb818ff6b149",
   "metadata": {
    "tags": []
   },
   "outputs": [],
   "source": [
    "# Instead of saving every value explored previously, I am just going to save the variable I am interested in (i.e. temperature)\n",
    "# Comma Separated Values (CSV) files are common text files that can be read with any text editor (or Microsoft Excel / Mac Numbers)\n",
    "df_temp.to_csv('wxt536_W057_ambient_temp.csv')"
   ]
  },
  {
   "cell_type": "code",
   "execution_count": null,
   "id": "e4b5e3fc-d18d-429f-8d84-5f322b969f35",
   "metadata": {
    "tags": []
   },
   "outputs": [],
   "source": [
    "# Let's check the size of that file using simple unix commands\n",
    "!ls -lh 'wxt536_W057_ambient_temp.csv'"
   ]
  },
  {
   "cell_type": "markdown",
   "id": "894c79ad-5992-460b-be6e-5352ea2ac22b",
   "metadata": {},
   "source": [
    "- 666 MB is a large file for just one environmental parameter. \n",
    "- It would be much larger if we saved all the observations for an hour (or day, or week, or month, etc)"
   ]
  },
  {
   "cell_type": "markdown",
   "id": "dafee442-751c-4777-91c8-18d9606c2852",
   "metadata": {
    "tags": []
   },
   "source": [
    "<div class=\"admonition alert alert-info\">\n",
    "    <p class=\"admonition-title\" style=\"font-weight:bold\">Info</p>\n",
    "    Pandas DataFrames support multiple file formats for saving data, including binary Parquet files. This allows us to compress the data and save space\n",
    "</div>"
   ]
  },
  {
   "cell_type": "code",
   "execution_count": null,
   "id": "77db010c-bc73-4cef-bc4a-414ba74da4bd",
   "metadata": {
    "tags": []
   },
   "outputs": [],
   "source": [
    "df_temp.to_parquet('wxt536_W057_ambient_temp.parquet',\n",
    "                   use_deprecated_int96_timestamps=True)"
   ]
  },
  {
   "cell_type": "code",
   "execution_count": null,
   "id": "3972cfaf-33d5-4ddd-82e1-8899b1c62d21",
   "metadata": {
    "tags": []
   },
   "outputs": [],
   "source": [
    "# Let's check the size of the parquet file\n",
    "!ls -lh 'wxt536_W057_ambient_temp.parquet'"
   ]
  },
  {
   "cell_type": "markdown",
   "id": "e2920b23-99cc-4aea-9804-d339ed7aff27",
   "metadata": {},
   "source": [
    "- Only 23MB saving the same data as this format!\n",
    "- Less than 1% of the space taken up by the same data in CSV format!"
   ]
  }
 ],
 "metadata": {
  "kernelspec": {
   "display_name": "Python 3 (ipykernel)",
   "language": "python",
   "name": "python3"
  },
  "language_info": {
   "codemirror_mode": {
    "name": "ipython",
    "version": 3
   },
   "file_extension": ".py",
   "mimetype": "text/x-python",
   "name": "python",
   "nbconvert_exporter": "python",
   "pygments_lexer": "ipython3",
   "version": "3.11.3"
  }
 },
 "nbformat": 4,
 "nbformat_minor": 5
}
